{
 "cells": [
  {
   "cell_type": "code",
   "execution_count": 38,
   "metadata": {},
   "outputs": [],
   "source": [
    "import struct"
   ]
  },
  {
   "cell_type": "code",
   "execution_count": 39,
   "metadata": {},
   "outputs": [
    {
     "name": "stdout",
     "output_type": "stream",
     "text": [
      "HEIC Headers:\n",
      "Box Type: ftyp, Box Size: 24 bytes\n",
      "Box Type: mdat, Box Size: 11509084 bytes\n",
      "Box Type: meta, Box Size: 10525 bytes\n",
      "Extracted Meta Data (preview): b'\\x00\\x00\\x00\\x00\\x00\\x00\\x00\"hdlr\\x00\\x00\\x00\\x00\\x00\\x00\\x00\\x00pict\\x00\\x00\\x00\\x00\\x00\\x00\\x00\\x00\\x00\\x00\\x00\\x00\\x00\\x00\\x00\\x00\\x10\\riinf\\x00\\x00\\x00\\x00\\x00\\xc3\\x00\\x00\\x00\\x15infe\\x02\\x00\\x00\\x01\\x00\\x01\\x00\\x00hvc1\\x00\\x00\\x00\\x00\\x15infe\\x02\\x00\\x00\\x01\\x00\\x02\\x00\\x00hvc1\\x00\\x00\\x00\\x00\\x15in'\n"
     ]
    },
    {
     "ename": "ValueError",
     "evalue": "byte must be in range(0, 256)",
     "output_type": "error",
     "traceback": [
      "\u001b[0;31m---------------------------------------------------------------------------\u001b[0m",
      "\u001b[0;31mValueError\u001b[0m                                Traceback (most recent call last)",
      "Cell \u001b[0;32mIn[39], line 70\u001b[0m\n\u001b[1;32m     67\u001b[0m file_path \u001b[38;5;241m=\u001b[39m \u001b[38;5;124m\"\u001b[39m\u001b[38;5;124m./test/20240629_143501.heic\u001b[39m\u001b[38;5;124m\"\u001b[39m\n\u001b[1;32m     69\u001b[0m \u001b[38;5;28mprint\u001b[39m(\u001b[38;5;124m\"\u001b[39m\u001b[38;5;124mHEIC Headers:\u001b[39m\u001b[38;5;124m\"\u001b[39m)\n\u001b[0;32m---> 70\u001b[0m \u001b[43mextract_heic_headers\u001b[49m\u001b[43m(\u001b[49m\u001b[43mfile_path\u001b[49m\u001b[43m)\u001b[49m\n",
      "Cell \u001b[0;32mIn[39], line 58\u001b[0m, in \u001b[0;36mextract_heic_headers\u001b[0;34m(file_path)\u001b[0m\n\u001b[1;32m     55\u001b[0m \u001b[38;5;28mprint\u001b[39m(\u001b[38;5;124mf\u001b[39m\u001b[38;5;124m\"\u001b[39m\u001b[38;5;124mBox Type: \u001b[39m\u001b[38;5;132;01m{\u001b[39;00mbox_type\u001b[38;5;132;01m}\u001b[39;00m\u001b[38;5;124m, Box Size: \u001b[39m\u001b[38;5;132;01m{\u001b[39;00mbox_size\u001b[38;5;132;01m}\u001b[39;00m\u001b[38;5;124m bytes\u001b[39m\u001b[38;5;124m\"\u001b[39m)\n\u001b[1;32m     57\u001b[0m \u001b[38;5;28;01mif\u001b[39;00m box_type \u001b[38;5;241m==\u001b[39m \u001b[38;5;124m'\u001b[39m\u001b[38;5;124mmeta\u001b[39m\u001b[38;5;124m'\u001b[39m:\n\u001b[0;32m---> 58\u001b[0m     \u001b[43mextract_meta_data\u001b[49m\u001b[43m(\u001b[49m\u001b[43mf\u001b[49m\u001b[43m,\u001b[49m\u001b[43m \u001b[49m\u001b[43mbox_size\u001b[49m\u001b[43m)\u001b[49m\n\u001b[1;32m     60\u001b[0m \u001b[38;5;28;01mif\u001b[39;00m box_size \u001b[38;5;241m<\u001b[39m \u001b[38;5;241m8\u001b[39m:\n\u001b[1;32m     61\u001b[0m     \u001b[38;5;28mprint\u001b[39m(\u001b[38;5;124mf\u001b[39m\u001b[38;5;124m\"\u001b[39m\u001b[38;5;124mInvalid box size for box \u001b[39m\u001b[38;5;132;01m{\u001b[39;00mbox_type\u001b[38;5;132;01m}\u001b[39;00m\u001b[38;5;124m, stopping...\u001b[39m\u001b[38;5;124m\"\u001b[39m)\n",
      "Cell \u001b[0;32mIn[39], line 37\u001b[0m, in \u001b[0;36mextract_meta_data\u001b[0;34m(f, box_size)\u001b[0m\n\u001b[1;32m     34\u001b[0m \u001b[38;5;28mprint\u001b[39m(\u001b[38;5;124m\"\u001b[39m\u001b[38;5;124mExtracted Meta Data (preview):\u001b[39m\u001b[38;5;124m\"\u001b[39m, meta_data[:\u001b[38;5;241m100\u001b[39m])\n\u001b[1;32m     36\u001b[0m \u001b[38;5;66;03m# Here you'd need to actually parse the metadata (e.g., TIFF/EXIF tags inside the box)\u001b[39;00m\n\u001b[0;32m---> 37\u001b[0m exif_data \u001b[38;5;241m=\u001b[39m \u001b[43mparse_exif_data\u001b[49m\u001b[43m(\u001b[49m\u001b[43mmeta_data\u001b[49m\u001b[43m)\u001b[49m  \u001b[38;5;66;03m# Let's pretend 'meta_data' contains EXIF data for now\u001b[39;00m\n\u001b[1;32m     39\u001b[0m \u001b[38;5;28;01mif\u001b[39;00m exif_data:\n\u001b[1;32m     40\u001b[0m     \u001b[38;5;28mprint\u001b[39m(\u001b[38;5;124m\"\u001b[39m\u001b[38;5;124mExtracted EXIF Data:\u001b[39m\u001b[38;5;124m\"\u001b[39m)\n",
      "Cell \u001b[0;32mIn[39], line 26\u001b[0m, in \u001b[0;36mparse_exif_data\u001b[0;34m(data)\u001b[0m\n\u001b[1;32m     21\u001b[0m \u001b[38;5;66;03m# This would involve parsing the TIFF header and extracting tags.\u001b[39;00m\n\u001b[1;32m     22\u001b[0m \u001b[38;5;66;03m# For simplicity, let's simulate finding some EXIF-like tags.\u001b[39;00m\n\u001b[1;32m     24\u001b[0m \u001b[38;5;28;01mfor\u001b[39;00m tag_id, tag_name \u001b[38;5;129;01min\u001b[39;00m EXIF_TAGS\u001b[38;5;241m.\u001b[39mitems():\n\u001b[1;32m     25\u001b[0m     \u001b[38;5;66;03m# This is a simplified lookup. You need to actually parse the TIFF structure here.\u001b[39;00m\n\u001b[0;32m---> 26\u001b[0m     \u001b[38;5;28;01mif\u001b[39;00m \u001b[43mtag_id\u001b[49m\u001b[43m \u001b[49m\u001b[38;5;129;43;01min\u001b[39;49;00m\u001b[43m \u001b[49m\u001b[43mdata\u001b[49m:\n\u001b[1;32m     27\u001b[0m         exif_info[tag_name] \u001b[38;5;241m=\u001b[39m data[tag_id]  \u001b[38;5;66;03m# In a real case, we'd extract the actual values from 'data'\u001b[39;00m\n\u001b[1;32m     29\u001b[0m \u001b[38;5;28;01mreturn\u001b[39;00m exif_info\n",
      "\u001b[0;31mValueError\u001b[0m: byte must be in range(0, 256)"
     ]
    }
   ],
   "source": [
    "import struct\n",
    "\n",
    "# Known EXIF tag IDs\n",
    "EXIF_TAGS = {\n",
    "    0x010F: 'Make',          # Camera make\n",
    "    0x0110: 'Model',         # Camera model\n",
    "    0x829A: 'ExposureTime',   # Exposure time\n",
    "    0x829D: 'FNumber',       # F-Number\n",
    "    0x8827: 'ISOSpeed',       # ISO speed\n",
    "    0x920A: 'FocalLength',    # Focal length\n",
    "    0x0002: 'GPSLatitude',    # GPS Latitude\n",
    "    0x0004: 'GPSLongitude'    # GPS Longitude\n",
    "    # Add more EXIF tags as needed\n",
    "}\n",
    "\n",
    "\n",
    "def parse_exif_data(data):\n",
    "    \"\"\"Parse the EXIF-like data from the meta box.\"\"\"\n",
    "    exif_info = {}\n",
    "    \n",
    "    # This would involve parsing the TIFF header and extracting tags.\n",
    "    # For simplicity, let's simulate finding some EXIF-like tags.\n",
    "    \n",
    "    for tag_id, tag_name in EXIF_TAGS.items():\n",
    "        # This is a simplified lookup. You need to actually parse the TIFF structure here.\n",
    "        if tag_id in data:\n",
    "            exif_info[tag_name] = data[tag_id]  # In a real case, we'd extract the actual values from 'data'\n",
    "\n",
    "    return exif_info\n",
    "\n",
    "def extract_meta_data(f, box_size):\n",
    "    \"\"\"Extract metadata from the 'meta' box and look for EXIF-like data.\"\"\"\n",
    "    meta_data = f.read(box_size - 8)  # Read the body of the 'meta' box\n",
    "    print(\"Extracted Meta Data (preview):\", meta_data[:100])\n",
    "\n",
    "    # Here you'd need to actually parse the metadata (e.g., TIFF/EXIF tags inside the box)\n",
    "    exif_data = parse_exif_data(meta_data)  # Let's pretend 'meta_data' contains EXIF data for now\n",
    "\n",
    "    if exif_data:\n",
    "        print(\"Extracted EXIF Data:\")\n",
    "        for key, value in exif_data.items():\n",
    "            print(f\"{key}: {value}\")\n",
    "\n",
    "def extract_heic_headers(file_path):\n",
    "    \"\"\"Extract all headers from the HEIC file and handle the 'meta' box to extract metadata.\"\"\"\n",
    "    with open(file_path, 'rb') as f:\n",
    "        while True:\n",
    "            header = f.read(8)\n",
    "            if len(header) < 8:\n",
    "                break  # End of file\n",
    "            \n",
    "            box_size = struct.unpack('>I', header[:4])[0]\n",
    "            box_type = header[4:8].decode('ascii')\n",
    "\n",
    "            print(f\"Box Type: {box_type}, Box Size: {box_size} bytes\")\n",
    "\n",
    "            if box_type == 'meta':\n",
    "                extract_meta_data(f, box_size)\n",
    "\n",
    "            if box_size < 8:\n",
    "                print(f\"Invalid box size for box {box_type}, stopping...\")\n",
    "                break\n",
    "\n",
    "            f.seek(box_size - 8, 1)\n",
    "\n",
    "# Example usage:\n",
    "file_path = \"./test/20240629_143501.heic\"\n",
    "\n",
    "print(\"HEIC Headers:\")\n",
    "extract_heic_headers(file_path)"
   ]
  }
 ],
 "metadata": {
  "kernelspec": {
   "display_name": "env",
   "language": "python",
   "name": "python3"
  },
  "language_info": {
   "codemirror_mode": {
    "name": "ipython",
    "version": 3
   },
   "file_extension": ".py",
   "mimetype": "text/x-python",
   "name": "python",
   "nbconvert_exporter": "python",
   "pygments_lexer": "ipython3",
   "version": "3.12.7"
  }
 },
 "nbformat": 4,
 "nbformat_minor": 2
}
